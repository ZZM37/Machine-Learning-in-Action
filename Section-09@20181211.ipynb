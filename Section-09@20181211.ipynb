{
 "cells": [
  {
   "cell_type": "markdown",
   "metadata": {},
   "source": [
    "## 第九章—树回归"
   ]
  },
  {
   "cell_type": "markdown",
   "metadata": {},
   "source": [
    "### 1、复杂数据的局部性建模"
   ]
  },
  {
   "cell_type": "markdown",
   "metadata": {},
   "source": [
    "### 2、连续和离散型特征的树的构建"
   ]
  },
  {
   "cell_type": "code",
   "execution_count": null,
   "metadata": {},
   "outputs": [],
   "source": [
    "# CART算法代码\n",
    "import numpy as np\n",
    "\n",
    "def loadDataSet(fileName):      # general function to parse tab -delimited floats\n",
    "    dataMat = []                # assume last column is target value\n",
    "    fr = open(fileName)\n",
    "    for line in fr.readlines():\n",
    "        curLine = line.strip().split('\\t')\n",
    "        fltLine = list(map(float, curLine)) # map all elements to float()\n",
    "        # fltLine = [float(i) for i in curLine]\n",
    "        dataMat.append(fltLine)\n",
    "    return dataMat\n",
    "\n",
    "def binSplitDataSet(dataSet, feature, value):\n",
    "    mat0 = dataSet[np.nonzero(dataSet[:,feature] > value)[0],:]\n",
    "    mat1 = dataSet[np.nonzero(dataSet[:,feature] <= value)[0],:]\n",
    "    return mat0, mat1"
   ]
  },
  {
   "cell_type": "code",
   "execution_count": null,
   "metadata": {},
   "outputs": [],
   "source": [
    "myDat = loadDataSet('D:/data/study/AI/ML/MLcode/Ch09/ex00.txt')\n",
    "myMat = np.mat(myDat)\n",
    "# print(myMat[:,-1])"
   ]
  },
  {
   "cell_type": "code",
   "execution_count": null,
   "metadata": {},
   "outputs": [],
   "source": [
    "testMat = np.mat(np.eye(4))\n",
    "mat0, mat1 = binSplitDataSet(testMat, 1, 0.5)\n",
    "print(mat0, '\\n', mat1)"
   ]
  },
  {
   "cell_type": "markdown",
   "metadata": {},
   "source": [
    "### 3、将CART算法用于回归"
   ]
  },
  {
   "cell_type": "markdown",
   "metadata": {},
   "source": [
    "### 3.1、构建树"
   ]
  },
  {
   "cell_type": "code",
   "execution_count": null,
   "metadata": {},
   "outputs": [],
   "source": [
    "# 回归树的切分函数\n",
    "def regLeaf(dataSet):                   # returns the value used for each leaf\n",
    "    return np.mean(dataSet[:,-1])\n",
    "\n",
    "def regErr(dataSet):\n",
    "    return np.var(dataSet[:,-1]) * np.shape(dataSet)[0]\n",
    "\n",
    "def chooseBestSplit(dataSet, leafType = regLeaf, errType = regErr, ops = (1, 4)):\n",
    "    tolS = ops[0]; tolN = ops[1]\n",
    "    # if all the target variables are the same value: quit and return value\n",
    "    if len(set(dataSet[:,-1].T.tolist()[0])) == 1:              # exit cond 1\n",
    "        return None,leafType(dataSet)\n",
    "    m, n = np.shape(dataSet)\n",
    "    # the choice of the best feature is driven by Reduction in RSS error from mean\n",
    "    S = errType(dataSet)\n",
    "    bestS = np.inf; bestIndex = 0; bestValue = 0\n",
    "    for featIndex in range(n-1):\n",
    "        # 矩阵转化为集合\n",
    "        # for splitVal in set(dataSet[:,featIndex]):\n",
    "        for splitVal in set([feat[featIndex] for feat in dataSet.tolist()]):\n",
    "            mat0, mat1 = binSplitDataSet(dataSet, featIndex, splitVal)\n",
    "            if(np.shape(mat0)[0] < tolN) or (np.shape(mat1)[0] < tolN):\n",
    "                continue\n",
    "            newS = errType(mat0) + errType(mat1)\n",
    "            if newS < bestS:\n",
    "                bestIndex = featIndex\n",
    "                bestValue = splitVal\n",
    "                bestS = newS\n",
    "    # if the decrease (S-bestS) is less than a threshold don't do the split\n",
    "    if (S - bestS) < tolS:\n",
    "        return None,leafType(dataSet)                            # exit cond 2\n",
    "    mat0, mat1 = binSplitDataSet(dataSet, bestIndex, bestValue)\n",
    "    if(np.shape(mat0)[0] < tolN) or (np.shape(mat1)[0] < tolN):  # exit cond 3\n",
    "        return None, leafType(dataSet)\n",
    "    return bestIndex, bestValue                                  # returns the best feature to split on\n",
    "                                                                 # and the value used for that split"
   ]
  },
  {
   "cell_type": "code",
   "execution_count": null,
   "metadata": {},
   "outputs": [],
   "source": [
    "def createTree(dataSet, leafType = regLeaf, errType = regErr, ops = (1, 4)):    # assume dataSet is NumPy Mat so we can array filtering\n",
    "    feat, val = chooseBestSplit(dataSet, leafType, errType, ops)                # choose the best split\n",
    "    if feat == None: return val                                                # if the splitting hit a stop condition return val\n",
    "    retTree = {}\n",
    "    retTree['spInd'] = feat\n",
    "    retTree['spVal'] = val\n",
    "    lSet, rSet = binSplitDataSet(dataSet, feat, val)\n",
    "    retTree['left'] = createTree(lSet, leafType, errType, ops)\n",
    "    retTree['right'] = createTree(rSet, leafType, errType, ops)\n",
    "    return retTree"
   ]
  },
  {
   "cell_type": "code",
   "execution_count": null,
   "metadata": {},
   "outputs": [],
   "source": [
    "myDat = loadDataSet('D:/data/study/AI/ML/MLcode/Ch09/ex00.txt')\n",
    "myMat = np.mat(myDat)\n",
    "#print(myMat)\n",
    "print(createTree(myMat))"
   ]
  },
  {
   "cell_type": "code",
   "execution_count": null,
   "metadata": {},
   "outputs": [],
   "source": [
    "myDat1 = loadDataSet('D:/data/study/AI/ML/MLcode/Ch09/ex0.txt')\n",
    "myMat1 = np.mat(myDat1)\n",
    "print(createTree(myMat1))"
   ]
  },
  {
   "cell_type": "markdown",
   "metadata": {},
   "source": [
    "### 4、树剪枝"
   ]
  },
  {
   "cell_type": "markdown",
   "metadata": {},
   "source": [
    "#### 4.1、预剪枝"
   ]
  },
  {
   "cell_type": "code",
   "execution_count": null,
   "metadata": {},
   "outputs": [],
   "source": [
    "myDat2 = loadDataSet('D:/data/study/AI/ML/MLcode/Ch09/ex2.txt')\n",
    "myMat2 = np.mat(myDat2)\n",
    "print(createTree(myMat2))"
   ]
  },
  {
   "cell_type": "code",
   "execution_count": null,
   "metadata": {},
   "outputs": [],
   "source": [
    "print(createTree(myMat2, ops = (10000, 4)))"
   ]
  },
  {
   "cell_type": "markdown",
   "metadata": {},
   "source": [
    "#### 4.2、后剪枝"
   ]
  },
  {
   "cell_type": "code",
   "execution_count": null,
   "metadata": {},
   "outputs": [],
   "source": [
    "# 回归树剪枝函数\n",
    "def isTree(obj):\n",
    "    return (type(obj).__name__=='dict')\n",
    "\n",
    "def getMean(tree):\n",
    "    if isTree(tree['right']): tree['right'] = getMean(tree['right'])\n",
    "    if isTree(tree['left']): tree['left'] = getMean(tree['left'])\n",
    "    return (tree['left'] + tree['right'])/2.0\n",
    "\n",
    "def prune(tree, testData):\n",
    "    if np.shape(testData)[0] == 0: return getMean(tree)        # if we have no test data collapse the tree\n",
    "    if (isTree(tree['right']) or isTree(tree['left'])):        # if the branches are not trees try to prune them\n",
    "        lSet, rSet = binSplitDataSet(testData, tree['spInd'], tree['spVal'])\n",
    "    if isTree(tree['left']): tree['left'] = prune(tree['left'], lSet)\n",
    "    if isTree(tree['right']): tree['right'] =  prune(tree['right'], rSet)\n",
    "    # if they are now both leafs, see if we can merge them\n",
    "    if not isTree(tree['left']) and not isTree(tree['right']):\n",
    "        lSet, rSet = binSplitDataSet(testData, tree['spInd'], tree['spVal'])\n",
    "        errorNoMerge = np.sum(np.power(lSet[:,-1] - tree['left'], 2)) + np.sum(np.power(rSet[:,-1] - tree['right'], 2))\n",
    "        treeMean = (tree['left'] + tree['right']) / 2.0\n",
    "        errorMerge = np.sum(np.power(testData[:,-1] - treeMean, 2))\n",
    "        if errorMerge < errorNoMerge:\n",
    "            print(\"merging\")\n",
    "            return treeMean\n",
    "        else: return tree\n",
    "    else: return tree"
   ]
  },
  {
   "cell_type": "code",
   "execution_count": null,
   "metadata": {},
   "outputs": [],
   "source": [
    "myTree = createTree(myMat2, ops = (0, 1))\n",
    "myDatTest = loadDataSet('D:/data/study/AI/ML/MLcode/Ch09/ex2test.txt')\n",
    "myMat2Test = np.mat(myDatTest)\n",
    "print(prune(myTree, myMat2Test))"
   ]
  },
  {
   "cell_type": "markdown",
   "metadata": {},
   "source": [
    "### 5、模型树"
   ]
  },
  {
   "cell_type": "code",
   "execution_count": null,
   "metadata": {},
   "outputs": [],
   "source": [
    "# 模型树的叶节点生成函数\n",
    "def linearSolve(dataSet):               # helper function used in two places\n",
    "    m,n = np.shape(dataSet)\n",
    "    X = np.mat(np.ones((m, n)))\n",
    "    Y = np.mat(np.ones((m, 1)))         # create a copy of data with 1 in 0th postion\n",
    "    X[:,1:n] = dataSet[:,0:n-1]\n",
    "    Y = dataSet[:,-1]                   # and strip out Y\n",
    "    xTx = X.T * X\n",
    "    if np.linalg.det(xTx) == 0.0:\n",
    "        raise NameError('This matrix is singular, cannot do inverse,try increasing the second value of ops')\n",
    "    ws = xTx.I * (X.T * Y)\n",
    "    return ws, X, Y\n",
    "\n",
    "def modelLeaf(dataSet):                 # create linear model and return coeficients\n",
    "    ws, X, Y = linearSolve(dataSet)\n",
    "    return ws\n",
    "\n",
    "def modelErr(dataSet):\n",
    "    ws, X, Y = linearSolve(dataSet)\n",
    "    yHat = X * ws\n",
    "    return np.sum(np.power(Y - yHat, 2))"
   ]
  },
  {
   "cell_type": "code",
   "execution_count": null,
   "metadata": {},
   "outputs": [],
   "source": [
    "myMat2 = np.mat(loadDataSet('D:/data/study/AI/ML/MLcode/Ch09/exp2.txt'))\n",
    "print(createTree(myMat2, modelLeaf, modelErr, (1,10)))"
   ]
  },
  {
   "cell_type": "markdown",
   "metadata": {},
   "source": [
    "### 6、树回归与标准回归的比较"
   ]
  },
  {
   "cell_type": "code",
   "execution_count": null,
   "metadata": {},
   "outputs": [],
   "source": [
    "# 用树回归进行预测\n",
    "def regTreeEval(model, inDat):\n",
    "    return float(model)\n",
    "\n",
    "def modelTreeEval(model, inDat):\n",
    "    n = np.shape(inDat)[1]\n",
    "    X = np.mat(np.ones((1, n+1)))\n",
    "    X[:,1:n+1] = inDat\n",
    "    return float(X * model)\n",
    "\n",
    "def treeForeCast(tree, inData, modelEval = regTreeEval):\n",
    "    if not isTree(tree): return modelEval(tree, inData)\n",
    "    if inData[tree['spInd']] > tree['spVal']:\n",
    "        if isTree(tree['left']): return treeForeCast(tree['left'], inData, modelEval)\n",
    "        else: return modelEval(tree['left'], inData)\n",
    "    else:\n",
    "        if isTree(tree['right']): return treeForeCast(tree['right'], inData, modelEval)\n",
    "        else: return modelEval(tree['right'], inData)\n",
    "\n",
    "def createForeCast(tree, testData, modelEval=regTreeEval):\n",
    "    m = len(testData)\n",
    "    yHat = np.mat(np.zeros((m, 1)))\n",
    "    for i in range(m):\n",
    "        yHat[i, 0] = treeForeCast(tree, np.mat(testData[i]), modelEval)\n",
    "    return yHat"
   ]
  },
  {
   "cell_type": "code",
   "execution_count": null,
   "metadata": {},
   "outputs": [],
   "source": [
    "trainMat = np.mat(loadDataSet('D:/data/study/AI/ML/MLcode/Ch09/bikeSpeedVsIq_train.txt'))\n",
    "testMat = np.mat(loadDataSet('D:/data/study/AI/ML/MLcode/Ch09/bikeSpeedVsIq_test.txt'))\n",
    "myTree = createTree(trainMat, ops = (1, 20))\n",
    "yHat = createForeCast(myTree, testMat[:,0])\n",
    "print(np.corrcoef(yHat, testMat[:,1], rowvar = 0)[0, 1])"
   ]
  },
  {
   "cell_type": "code",
   "execution_count": null,
   "metadata": {},
   "outputs": [],
   "source": [
    "ws, X, Y = linearSolve(trainMat)\n",
    "for i in range(np.shape(testMat)[0]):\n",
    "    yHat[i] = testMat[i, 0]*ws[1, 0] + ws[0, 0]\n",
    "print(np.corrcoef(yHat, testMat[:, 1], rowvar = 0)[0, 1])"
   ]
  },
  {
   "cell_type": "markdown",
   "metadata": {},
   "source": [
    "### 7、使用Python的Tkinter库创建GUI"
   ]
  },
  {
   "cell_type": "code",
   "execution_count": null,
   "metadata": {},
   "outputs": [],
   "source": [
    "import tkinter as tk\n",
    "import matplotlib\n",
    "matplotlib.use('TkAgg')\n",
    "from matplotlib.backends.backend_tkagg import FigureCanvasTkAgg\n",
    "from matplotlib.figure import Figure"
   ]
  },
  {
   "cell_type": "code",
   "execution_count": null,
   "metadata": {},
   "outputs": [],
   "source": [
    "root = tk.Tk()\n",
    "myLabel = tk.Label(root, text = 'Hello World')\n",
    "myLabel.grid()\n",
    "root.mainloop()"
   ]
  },
  {
   "cell_type": "code",
   "execution_count": null,
   "metadata": {},
   "outputs": [],
   "source": [
    "# 用于构建树管理器界面的Tkinter小部件\n",
    "def reDraw(tolS, tolN):\n",
    "    reDraw.f.clf()                       # clear the figure\n",
    "    reDraw.a = reDraw.f.add_subplot(111)\n",
    "    if chkBtnVar.get():\n",
    "        if tolN < 2: tolN = 2\n",
    "        myTree = createTree(reDraw.rawDat, modelLeaf, modelErr, (tolS,tolN))\n",
    "        yHat = createForeCast(myTree, reDraw.testDat, modelTreeEval)\n",
    "    else:\n",
    "        myTree = createTree(reDraw.rawDat, ops = (tolS, tolN))\n",
    "        yHat = createForeCast(myTree, reDraw.testDat)\n",
    "    reDraw.a.scatter(reDraw.rawDat[:, 0].tolist(), reDraw.rawDat[:, 1].tolist(), s = 5)     # use scatter for data set\n",
    "    reDraw.a.plot(reDraw.testDat, yHat, linewidth = 2.0)                                    # use plot for yHat\n",
    "    reDraw.canvas.show()\n",
    "\n",
    "def drawNewTree():\n",
    "    tolN,tolS = getInputs()             # get values from Entry boxes\n",
    "    reDraw(tolS,tolN)"
   ]
  },
  {
   "cell_type": "code",
   "execution_count": null,
   "metadata": {},
   "outputs": [],
   "source": [
    "# Matplotlib和Tkinter的代码集成\n",
    "def getInputs():\n",
    "    try: tolN = int(tolNentry.get())\n",
    "    except: \n",
    "        tolN = 10 \n",
    "        print(\"enter Integer for tolN\")\n",
    "        tolNentry.delete(0, END)\n",
    "        tolNentry.insert(0,'10')\n",
    "    try: tolS = float(tolSentry.get())\n",
    "    except: \n",
    "        tolS = 1.0 \n",
    "        print(\"enter Float for tolS\")\n",
    "        tolSentry.delete(0, END)\n",
    "        tolSentry.insert(0,'1.0')\n",
    "    return tolN,tolS"
   ]
  },
  {
   "cell_type": "code",
   "execution_count": null,
   "metadata": {},
   "outputs": [],
   "source": [
    "root = tk.Tk()\n",
    "\n",
    "tk.Label(root, text = \"Plot Place Holder\").grid(row = 0, columnspan = 3)\n",
    "\n",
    "reDraw.f = Figure(figsize=(5,4), dpi=100) #create canvas\n",
    "reDraw.canvas = FigureCanvasTkAgg(reDraw.f, master=root)\n",
    "reDraw.canvas.show()\n",
    "reDraw.canvas.get_tk_widget().grid(row=0, columnspan=3)\n",
    "\n",
    "tk.Label(root, text = \"tolN\").grid(row = 1, column = 0)\n",
    "tolNentry = tk.Entry(root)\n",
    "tolNentry.grid(row = 1, column = 1)\n",
    "tolNentry.insert(0, '10')\n",
    "tk.Label(root, text = \"tolS\").grid(row = 2, column = 0)\n",
    "tolSentry = tk.Entry(root)\n",
    "tolSentry.grid(row = 2, column = 1)\n",
    "tolSentry.insert(0, '1.0')\n",
    "tk.Button(root, text = \"ReDraw\", command = drawNewTree).grid(row = 1, column = 2, rowspan = 3)\n",
    "chkBtnVar = tk.IntVar()\n",
    "chkBtn = tk.Checkbutton(root, text = \"Model Tree\", variable = chkBtnVar)\n",
    "chkBtn.grid(row = 3, column = 0, columnspan = 2)\n",
    "\n",
    "reDraw.rawDat = np.mat(loadDataSet('D:/data/study/AI/ML/MLcode/Ch09/sine.txt'))\n",
    "reDraw.testDat = np.arange(min(reDraw.rawDat[:, 0]), max(reDraw.rawDat[:, 0]), 0.01)\n",
    "reDraw(1.0, 10)\n",
    "               \n",
    "root.mainloop()\n",
    "\n",
    "tk.Button(root, text = \"Quit\", fg = \"black\", command = root.quit).grid(row = 1, column = 2)"
   ]
  },
  {
   "cell_type": "code",
   "execution_count": null,
   "metadata": {},
   "outputs": [],
   "source": []
  }
 ],
 "metadata": {
  "kernelspec": {
   "display_name": "Python 3",
   "language": "python",
   "name": "python3"
  },
  "language_info": {
   "codemirror_mode": {
    "name": "ipython",
    "version": 3
   },
   "file_extension": ".py",
   "mimetype": "text/x-python",
   "name": "python",
   "nbconvert_exporter": "python",
   "pygments_lexer": "ipython3",
   "version": "3.6.5"
  }
 },
 "nbformat": 4,
 "nbformat_minor": 2
}
