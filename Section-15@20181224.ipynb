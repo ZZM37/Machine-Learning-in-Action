{
 "cells": [
  {
   "cell_type": "markdown",
   "metadata": {},
   "source": [
    "## 第十五章—大数据与MapReduce"
   ]
  },
  {
   "cell_type": "markdown",
   "metadata": {},
   "source": [
    "### MapReduce：分布式计算的框架\n",
    "**优点：可在短时间内完成大量工作**  \n",
    "\n",
    "**缺点：算法必须经过重写，需要对系统工程有一定的理解**  \n",
    "\n",
    "**适用数据类型：数值型和标称型数据**"
   ]
  },
  {
   "cell_type": "markdown",
   "metadata": {},
   "source": [
    "**MapReduce学习要点：**  \n",
    "**1、主节点控制MapReduce作业流程**  \n",
    "**2、MapReduce的作业可以分成map任务和reduce任务**  \n",
    "**3、map任务之间不做数据交流，reduce也一样**  \n",
    "**4、在map和reduce阶段中间,有一个sort或者combine阶段**  \n",
    "**5、数据被重复存放在不同机器上，以防某个机器失效**  \n",
    "**6、mapper和reducer传输的数据形式为key/value对**"
   ]
  },
  {
   "cell_type": "code",
   "execution_count": 1,
   "metadata": {
    "scrolled": true
   },
   "outputs": [
    {
     "name": "stdout",
     "output_type": "stream",
     "text": [
      "0\tnan\tnan\n"
     ]
    },
    {
     "name": "stderr",
     "output_type": "stream",
     "text": [
      "d:\\software\\run\\python\\lib\\site-packages\\numpy\\matrixlib\\defmatrix.py:442: RuntimeWarning: Mean of empty slice.\n",
      "  return N.ndarray.mean(self, axis, dtype, out, keepdims=True)._collapse(axis)\n",
      "d:\\software\\run\\python\\lib\\site-packages\\numpy\\core\\_methods.py:78: RuntimeWarning: invalid value encountered in true_divide\n",
      "  ret, rcount, out=ret, casting='unsafe', subok=False)\n",
      "report: still alive\n"
     ]
    }
   ],
   "source": [
    "import sys\n",
    "from numpy import mat, mean, power\n",
    "\n",
    "def read_input(file):\n",
    "    for line in file:\n",
    "        yield line.rstrip()\n",
    "        \n",
    "input_ = read_input(sys.stdin)              # creates a list of input lines\n",
    "input_ = [float(line) for line in input_]   # overwrite with floats\n",
    "numInputs = len(input_)\n",
    "input_ = mat(input_)\n",
    "sqInput = power(input_, 2)\n",
    "# output size, mean, mean(square values)\n",
    "print(\"%d\\t%f\\t%f\" % (numInputs, mean(input_), mean(sqInput))) # calc mean of columns\n",
    "print(\"report: still alive\", file = sys.stderr)"
   ]
  },
  {
   "cell_type": "code",
   "execution_count": null,
   "metadata": {},
   "outputs": [],
   "source": []
  }
 ],
 "metadata": {
  "kernelspec": {
   "display_name": "Python 3",
   "language": "python",
   "name": "python3"
  },
  "language_info": {
   "codemirror_mode": {
    "name": "ipython",
    "version": 3
   },
   "file_extension": ".py",
   "mimetype": "text/x-python",
   "name": "python",
   "nbconvert_exporter": "python",
   "pygments_lexer": "ipython3",
   "version": "3.6.5"
  }
 },
 "nbformat": 4,
 "nbformat_minor": 2
}
