{
 "cells": [
  {
   "cell_type": "markdown",
   "metadata": {},
   "source": [
    "## 第十一章—使用Apriori算法进行关联分析"
   ]
  },
  {
   "cell_type": "markdown",
   "metadata": {},
   "source": [
    "**优点：**易编码实现  \n",
    "\n",
    "**缺点：**在大数据集上可能较慢  \n",
    "\n",
    "**适用数据类型：**数值型或者标称型数据"
   ]
  },
  {
   "cell_type": "markdown",
   "metadata": {},
   "source": [
    "**1、频繁项集  2、关联规则  3、支持度  4、可信度或置信度**"
   ]
  },
  {
   "cell_type": "markdown",
   "metadata": {},
   "source": [
    "### 1、使用Apriori算法发现频繁集"
   ]
  },
  {
   "cell_type": "markdown",
   "metadata": {},
   "source": [
    "#### 1.1、生成候选项集"
   ]
  },
  {
   "cell_type": "code",
   "execution_count": 1,
   "metadata": {},
   "outputs": [],
   "source": [
    "import numpy as np"
   ]
  },
  {
   "cell_type": "code",
   "execution_count": 2,
   "metadata": {},
   "outputs": [],
   "source": [
    "def loadDataSet():\n",
    "    return [[1, 3, 4], [2, 3, 5], [1, 2, 3, 5], [2, 5]]\n",
    "\n",
    "def createC1(dataSet):\n",
    "    C1 = []\n",
    "    for transaction in dataSet:\n",
    "        for item in transaction:\n",
    "            if not [item] in C1:\n",
    "                C1.append([item])\n",
    "    C1.sort()\n",
    "    return list(map(frozenset, C1))\n",
    "\n",
    "def scanD(D, Ck, minSupport):   # 数据集/候选项集列表/最小支持度\n",
    "    ssCnt = {}\n",
    "    for tid in D:\n",
    "        for can in Ck:\n",
    "            if can.issubset(tid):\n",
    "                if can not in ssCnt: ssCnt[can] = 1\n",
    "                else: ssCnt[can] += 1\n",
    "    numItems = float(len(D))\n",
    "    retList = []\n",
    "    supportData = {}\n",
    "    for key in ssCnt:\n",
    "        support = ssCnt[key]/numItems\n",
    "        if support >= minSupport:\n",
    "            retList.insert(0, key)\n",
    "        supportData[key] = support\n",
    "    return retList, supportData"
   ]
  },
  {
   "cell_type": "code",
   "execution_count": 3,
   "metadata": {},
   "outputs": [
    {
     "name": "stdout",
     "output_type": "stream",
     "text": [
      "[frozenset({5}), frozenset({2}), frozenset({3}), frozenset({1})]\n"
     ]
    }
   ],
   "source": [
    "dataSet = loadDataSet()\n",
    "C1 = createC1(dataSet)\n",
    "D = list(map(set, dataSet))\n",
    "L1, suppData0 = scanD(D, C1, 0.5)\n",
    "print(L1)"
   ]
  },
  {
   "cell_type": "markdown",
   "metadata": {},
   "source": [
    "#### 1.2、组织完整的Apriori算法"
   ]
  },
  {
   "cell_type": "code",
   "execution_count": 4,
   "metadata": {},
   "outputs": [],
   "source": [
    "# Apriori算法\n",
    "def aprioriGen(Lk, k):                        # creates Ck\n",
    "    retList = []\n",
    "    lenLk = len(Lk)\n",
    "    for i in range(lenLk):\n",
    "        for j in range(i + 1, lenLk): \n",
    "            L1 = list(Lk[i])[:k-2]; L2 = list(Lk[j])[:k-2]\n",
    "            L1.sort(); L2.sort()\n",
    "            if L1 == L2:                      # if first k-2 elements are equal\n",
    "                retList.append(Lk[i] | Lk[j]) # set union\n",
    "    return retList\n",
    "\n",
    "def apriori(dataSet, minSupport = 0.5):\n",
    "    C1 = createC1(dataSet)\n",
    "    D = list(map(set, dataSet))\n",
    "    L1, supportData = scanD(D, C1, minSupport)\n",
    "    L = [L1]\n",
    "    k = 2\n",
    "    while(len(L[k-2]) > 0):\n",
    "        Ck = aprioriGen(L[k-2], k)\n",
    "        Lk, supK = scanD(D, Ck, minSupport)   # scan DB to get Lk\n",
    "        supportData.update(supK)\n",
    "        L.append(Lk)\n",
    "        k += 1\n",
    "    return L, supportData"
   ]
  },
  {
   "cell_type": "code",
   "execution_count": 5,
   "metadata": {},
   "outputs": [
    {
     "name": "stdout",
     "output_type": "stream",
     "text": [
      "[[frozenset({5}), frozenset({2}), frozenset({3}), frozenset({1})], [frozenset({2, 3}), frozenset({3, 5}), frozenset({2, 5}), frozenset({1, 3})], [frozenset({2, 3, 5})], []]\n"
     ]
    }
   ],
   "source": [
    "L, suppData = apriori(dataSet)\n",
    "print(L)"
   ]
  },
  {
   "cell_type": "code",
   "execution_count": 6,
   "metadata": {},
   "outputs": [
    {
     "name": "stdout",
     "output_type": "stream",
     "text": [
      "[frozenset({2, 5}), frozenset({3, 5}), frozenset({1, 5}), frozenset({2, 3}), frozenset({1, 2}), frozenset({1, 3})]\n"
     ]
    }
   ],
   "source": [
    "print(aprioriGen(L[0], 2))"
   ]
  },
  {
   "cell_type": "code",
   "execution_count": 7,
   "metadata": {},
   "outputs": [
    {
     "name": "stdout",
     "output_type": "stream",
     "text": [
      "[[frozenset({5}), frozenset({2}), frozenset({3})], [frozenset({2, 5})], []]\n"
     ]
    }
   ],
   "source": [
    "L, suppData = apriori(dataSet, minSupport = 0.7)\n",
    "print(L)"
   ]
  },
  {
   "cell_type": "markdown",
   "metadata": {},
   "source": [
    "### 2、从频繁项集中挖掘关联规则"
   ]
  },
  {
   "cell_type": "markdown",
   "metadata": {},
   "source": [
    "### 3、发现毒蘑菇相似特征"
   ]
  },
  {
   "cell_type": "code",
   "execution_count": 8,
   "metadata": {},
   "outputs": [
    {
     "name": "stdout",
     "output_type": "stream",
     "text": [
      "frozenset({'28', '2'})\n",
      "frozenset({'53', '2'})\n",
      "frozenset({'23', '2'})\n",
      "frozenset({'34', '2'})\n",
      "frozenset({'36', '2'})\n",
      "frozenset({'59', '2'})\n",
      "frozenset({'63', '2'})\n",
      "frozenset({'67', '2'})\n",
      "frozenset({'76', '2'})\n",
      "frozenset({'85', '2'})\n",
      "frozenset({'86', '2'})\n",
      "frozenset({'90', '2'})\n",
      "frozenset({'93', '2'})\n",
      "frozenset({'39', '2'})\n"
     ]
    }
   ],
   "source": [
    "mushDatSet = [line.split() for line in open('D:/data/study/AI/ML/MLcode/Ch11/mushroom.dat').readlines()]\n",
    "L, suppData = apriori(mushDatSet, minSupport = 0.3)\n",
    "for item in L[1]:\n",
    "    if item.intersection('2'): print(item)"
   ]
  },
  {
   "cell_type": "code",
   "execution_count": 9,
   "metadata": {},
   "outputs": [
    {
     "name": "stdout",
     "output_type": "stream",
     "text": [
      "frozenset({'28', '34', '59', '2'})\n",
      "frozenset({'28', '63', '34', '2'})\n",
      "frozenset({'28', '34', '85', '2'})\n",
      "frozenset({'86', '28', '34', '2'})\n",
      "frozenset({'28', '34', '90', '2'})\n",
      "frozenset({'28', '63', '59', '2'})\n",
      "frozenset({'28', '59', '85', '2'})\n",
      "frozenset({'86', '28', '59', '2'})\n",
      "frozenset({'28', '59', '90', '2'})\n",
      "frozenset({'28', '63', '85', '2'})\n",
      "frozenset({'86', '28', '63', '2'})\n",
      "frozenset({'86', '28', '85', '2'})\n",
      "frozenset({'86', '28', '90', '2'})\n",
      "frozenset({'2', '28', '90', '85'})\n",
      "frozenset({'39', '28', '34', '2'})\n",
      "frozenset({'39', '28', '59', '2'})\n",
      "frozenset({'39', '28', '85', '2'})\n",
      "frozenset({'39', '86', '28', '2'})\n",
      "frozenset({'39', '28', '90', '2'})\n",
      "frozenset({'39', '28', '63', '2'})\n",
      "frozenset({'53', '28', '34', '2'})\n",
      "frozenset({'53', '34', '85', '2'})\n",
      "frozenset({'53', '86', '34', '2'})\n",
      "frozenset({'53', '34', '90', '2'})\n",
      "frozenset({'53', '90', '85', '2'})\n",
      "frozenset({'53', '28', '85', '2'})\n",
      "frozenset({'53', '86', '85', '2'})\n",
      "frozenset({'53', '86', '90', '2'})\n",
      "frozenset({'53', '86', '28', '2'})\n",
      "frozenset({'53', '28', '90', '2'})\n",
      "frozenset({'39', '53', '34', '2'})\n",
      "frozenset({'39', '53', '28', '2'})\n",
      "frozenset({'39', '53', '85', '2'})\n",
      "frozenset({'39', '53', '86', '2'})\n",
      "frozenset({'39', '53', '90', '2'})\n",
      "frozenset({'63', '34', '23', '2'})\n",
      "frozenset({'34', '59', '23', '2'})\n",
      "frozenset({'63', '34', '59', '2'})\n",
      "frozenset({'34', '59', '85', '2'})\n",
      "frozenset({'86', '34', '59', '2'})\n",
      "frozenset({'34', '59', '90', '2'})\n",
      "frozenset({'67', '34', '85', '2'})\n",
      "frozenset({'67', '86', '34', '2'})\n",
      "frozenset({'34', '85', '23', '2'})\n",
      "frozenset({'63', '34', '85', '2'})\n",
      "frozenset({'76', '34', '85', '2'})\n",
      "frozenset({'90', '34', '85', '2'})\n",
      "frozenset({'86', '34', '23', '2'})\n",
      "frozenset({'86', '63', '34', '2'})\n",
      "frozenset({'86', '76', '34', '2'})\n",
      "frozenset({'86', '34', '85', '2'})\n",
      "frozenset({'86', '34', '90', '2'})\n",
      "frozenset({'34', '90', '23', '2'})\n",
      "frozenset({'63', '34', '90', '2'})\n",
      "frozenset({'34', '93', '23', '2'})\n",
      "frozenset({'34', '93', '59', '2'})\n",
      "frozenset({'63', '34', '93', '2'})\n",
      "frozenset({'34', '93', '85', '2'})\n",
      "frozenset({'86', '34', '93', '2'})\n",
      "frozenset({'34', '93', '90', '2'})\n",
      "frozenset({'36', '63', '23', '2'})\n",
      "frozenset({'36', '34', '23', '2'})\n",
      "frozenset({'36', '34', '59', '2'})\n",
      "frozenset({'36', '63', '34', '2'})\n",
      "frozenset({'36', '34', '85', '2'})\n",
      "frozenset({'36', '86', '34', '2'})\n",
      "frozenset({'36', '34', '90', '2'})\n",
      "frozenset({'36', '34', '93', '2'})\n",
      "frozenset({'36', '59', '23', '2'})\n",
      "frozenset({'36', '63', '59', '2'})\n",
      "frozenset({'36', '59', '85', '2'})\n",
      "frozenset({'36', '86', '59', '2'})\n",
      "frozenset({'36', '59', '90', '2'})\n",
      "frozenset({'36', '85', '23', '2'})\n",
      "frozenset({'36', '63', '85', '2'})\n",
      "frozenset({'36', '90', '85', '2'})\n",
      "frozenset({'36', '86', '23', '2'})\n",
      "frozenset({'36', '86', '63', '2'})\n",
      "frozenset({'36', '86', '85', '2'})\n",
      "frozenset({'36', '86', '90', '2'})\n",
      "frozenset({'36', '63', '90', '2'})\n",
      "frozenset({'36', '93', '23', '2'})\n",
      "frozenset({'36', '93', '59', '2'})\n",
      "frozenset({'36', '63', '93', '2'})\n",
      "frozenset({'36', '93', '85', '2'})\n",
      "frozenset({'36', '86', '93', '2'})\n",
      "frozenset({'36', '93', '90', '2'})\n",
      "frozenset({'63', '59', '23', '2'})\n",
      "frozenset({'59', '85', '23', '2'})\n",
      "frozenset({'63', '59', '85', '2'})\n",
      "frozenset({'86', '59', '85', '2'})\n",
      "frozenset({'90', '59', '85', '2'})\n",
      "frozenset({'86', '59', '23', '2'})\n",
      "frozenset({'86', '63', '59', '2'})\n",
      "frozenset({'86', '59', '90', '2'})\n",
      "frozenset({'59', '90', '23', '2'})\n",
      "frozenset({'63', '59', '90', '2'})\n",
      "frozenset({'67', '86', '85', '2'})\n",
      "frozenset({'63', '85', '23', '2'})\n",
      "frozenset({'86', '63', '23', '2'})\n",
      "frozenset({'86', '85', '23', '2'})\n",
      "frozenset({'86', '63', '85', '2'})\n",
      "frozenset({'86', '76', '85', '2'})\n",
      "frozenset({'86', '90', '85', '2'})\n",
      "frozenset({'86', '90', '23', '2'})\n",
      "frozenset({'86', '63', '90', '2'})\n",
      "frozenset({'85', '90', '23', '2'})\n",
      "frozenset({'90', '63', '85', '2'})\n",
      "frozenset({'93', '59', '23', '2'})\n",
      "frozenset({'63', '93', '59', '2'})\n",
      "frozenset({'93', '59', '85', '2'})\n",
      "frozenset({'86', '93', '59', '2'})\n",
      "frozenset({'93', '59', '90', '2'})\n",
      "frozenset({'93', '85', '23', '2'})\n",
      "frozenset({'63', '93', '85', '2'})\n",
      "frozenset({'90', '93', '85', '2'})\n",
      "frozenset({'86', '93', '23', '2'})\n",
      "frozenset({'86', '63', '93', '2'})\n",
      "frozenset({'86', '93', '85', '2'})\n",
      "frozenset({'86', '93', '90', '2'})\n",
      "frozenset({'93', '90', '23', '2'})\n",
      "frozenset({'63', '93', '90', '2'})\n",
      "frozenset({'39', '63', '23', '2'})\n",
      "frozenset({'39', '34', '23', '2'})\n",
      "frozenset({'39', '36', '34', '2'})\n",
      "frozenset({'39', '34', '59', '2'})\n",
      "frozenset({'39', '63', '34', '2'})\n",
      "frozenset({'39', '67', '34', '2'})\n",
      "frozenset({'39', '76', '34', '2'})\n",
      "frozenset({'39', '34', '85', '2'})\n",
      "frozenset({'39', '86', '34', '2'})\n",
      "frozenset({'39', '34', '90', '2'})\n",
      "frozenset({'39', '34', '93', '2'})\n",
      "frozenset({'39', '36', '23', '2'})\n",
      "frozenset({'39', '36', '59', '2'})\n",
      "frozenset({'39', '36', '63', '2'})\n",
      "frozenset({'39', '36', '85', '2'})\n",
      "frozenset({'39', '36', '86', '2'})\n",
      "frozenset({'39', '36', '90', '2'})\n",
      "frozenset({'39', '36', '93', '2'})\n",
      "frozenset({'39', '59', '23', '2'})\n",
      "frozenset({'39', '63', '59', '2'})\n",
      "frozenset({'39', '59', '85', '2'})\n",
      "frozenset({'39', '86', '59', '2'})\n",
      "frozenset({'39', '59', '90', '2'})\n",
      "frozenset({'39', '67', '85', '2'})\n",
      "frozenset({'39', '67', '86', '2'})\n",
      "frozenset({'39', '85', '23', '2'})\n",
      "frozenset({'39', '63', '85', '2'})\n",
      "frozenset({'39', '76', '85', '2'})\n",
      "frozenset({'39', '90', '85', '2'})\n",
      "frozenset({'39', '86', '23', '2'})\n",
      "frozenset({'39', '86', '63', '2'})\n",
      "frozenset({'39', '86', '76', '2'})\n",
      "frozenset({'39', '86', '85', '2'})\n",
      "frozenset({'39', '86', '90', '2'})\n",
      "frozenset({'39', '63', '90', '2'})\n",
      "frozenset({'39', '93', '23', '2'})\n",
      "frozenset({'39', '93', '59', '2'})\n",
      "frozenset({'39', '63', '93', '2'})\n",
      "frozenset({'39', '93', '85', '2'})\n",
      "frozenset({'39', '86', '93', '2'})\n",
      "frozenset({'39', '93', '90', '2'})\n"
     ]
    }
   ],
   "source": [
    "for item in L[3]:\n",
    "    if item.intersection('2'): print(item)"
   ]
  },
  {
   "cell_type": "code",
   "execution_count": null,
   "metadata": {},
   "outputs": [],
   "source": []
  }
 ],
 "metadata": {
  "kernelspec": {
   "display_name": "Python 3",
   "language": "python",
   "name": "python3"
  },
  "language_info": {
   "codemirror_mode": {
    "name": "ipython",
    "version": 3
   },
   "file_extension": ".py",
   "mimetype": "text/x-python",
   "name": "python",
   "nbconvert_exporter": "python",
   "pygments_lexer": "ipython3",
   "version": "3.6.5"
  }
 },
 "nbformat": 4,
 "nbformat_minor": 2
}
