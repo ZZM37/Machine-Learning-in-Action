{
 "cells": [
  {
   "cell_type": "markdown",
   "metadata": {},
   "source": [
    "## 第十二章：使用FP-growth算法高效发现频繁项集"
   ]
  },
  {
   "cell_type": "markdown",
   "metadata": {},
   "source": [
    "### 1、FP树：用于编码数据集的有效方式\n",
    "**优点：**一般要快于Apriori  \n",
    "\n",
    "**缺点：**实现困难，在某些数据集上性能会下降  \n",
    "\n",
    "**适用数据类型：**标称型数据"
   ]
  },
  {
   "cell_type": "markdown",
   "metadata": {},
   "source": [
    "### 2、构建FP树"
   ]
  },
  {
   "cell_type": "markdown",
   "metadata": {},
   "source": [
    "### 2.1、创建FP树的数据结构"
   ]
  },
  {
   "cell_type": "code",
   "execution_count": 1,
   "metadata": {},
   "outputs": [],
   "source": [
    "# FP树的类定义\n",
    "class treeNode:\n",
    "    def __init__(self, nameValue, numOccur, parentNode):\n",
    "        self.name = nameValue\n",
    "        self.count = numOccur\n",
    "        self.nodeLink = None\n",
    "        self.parent = parentNode      # needs to be updated\n",
    "        self.children = {} \n",
    "    \n",
    "    def inc(self, numOccur):\n",
    "        self.count += numOccur\n",
    "        \n",
    "    def disp(self, ind = 1):\n",
    "        print('  '*ind, self.name, ' ', self.count)\n",
    "        for child in self.children.values():\n",
    "            child.disp(ind + 1)"
   ]
  },
  {
   "cell_type": "code",
   "execution_count": 2,
   "metadata": {},
   "outputs": [
    {
     "name": "stdout",
     "output_type": "stream",
     "text": [
      "   pyramid   9\n",
      "     eye   13\n"
     ]
    }
   ],
   "source": [
    "rootNode = treeNode('pyramid', 9, None)\n",
    "rootNode.children['eye'] = treeNode('eye', 13, None)\n",
    "rootNode.disp()"
   ]
  },
  {
   "cell_type": "code",
   "execution_count": 3,
   "metadata": {},
   "outputs": [
    {
     "name": "stdout",
     "output_type": "stream",
     "text": [
      "   pyramid   9\n",
      "     eye   13\n",
      "     phoenix   3\n"
     ]
    }
   ],
   "source": [
    "rootNode.children['phoenix'] = treeNode('phoenix', 3, None)\n",
    "rootNode.disp()"
   ]
  },
  {
   "cell_type": "markdown",
   "metadata": {},
   "source": [
    "### 2.2、构建FP树"
   ]
  },
  {
   "cell_type": "code",
   "execution_count": 4,
   "metadata": {},
   "outputs": [],
   "source": [
    "# FP树构建函数\n",
    "def createTree(dataSet, minSup = 1):     # create FP-tree from dataset but don't mine\n",
    "    headerTable = {}\n",
    "    # go over dataSet twice\n",
    "    for trans in dataSet:                # first pass counts frequency of occurance\n",
    "        for item in trans:\n",
    "            headerTable[item] = headerTable.get(item, 0) + dataSet[trans]\n",
    "    for k in list(headerTable.keys()):         # remove items not meeting minSup\n",
    "        if headerTable[k] < minSup:\n",
    "            del headerTable[k]\n",
    "    freqItemSet = set(headerTable.keys())\n",
    "    # print 'freqItemSet: ',freqItemSet\n",
    "    if len(freqItemSet) == 0: return None, None  # if no items meet min support -->get out\n",
    "    for k in headerTable:\n",
    "        headerTable[k] = [headerTable[k], None]  # reformat headerTable to use Node link \n",
    "    # print 'headerTable: ',headerTable\n",
    "    retTree = treeNode('Null Set', 1, None)      # create tree\n",
    "    for tranSet, count in dataSet.items():       # go through dataset 2nd time\n",
    "        localD = {}\n",
    "        for item in tranSet:                     # put transaction items in order\n",
    "            if item in freqItemSet:\n",
    "                localD[item] = headerTable[item][0]\n",
    "        if len(localD) > 0:\n",
    "            orderedItems = [v[0] for v in sorted(localD.items(), key = lambda p: p[1], reverse = True)]\n",
    "            updateTree(orderedItems, retTree, headerTable, count)  # populate tree with ordered freq itemset\n",
    "    return retTree, headerTable                                    # return tree and header table\n",
    "\n",
    "def updateTree(items, inTree, headerTable, count):\n",
    "    if items[0] in inTree.children:                                # check if orderedItems[0] in retTree.children\n",
    "        inTree.children[items[0]].inc(count)                       # incrament count\n",
    "    else:                                                          # add items[0] to inTree.children\n",
    "        inTree.children[items[0]] = treeNode(items[0], count, inTree)\n",
    "        if headerTable[items[0]][1] == None:                       # update header table \n",
    "            headerTable[items[0]][1] = inTree.children[items[0]]\n",
    "        else:\n",
    "            updateHeader(headerTable[items[0]][1], inTree.children[items[0]])\n",
    "    if len(items) > 1:                                             # call updateTree() with remaining ordered items\n",
    "        updateTree(items[1::], inTree.children[items[0]], headerTable, count)\n",
    "\n",
    "def updateHeader(nodeToTest, targetNode):                          # this version does not use recursion\n",
    "    while (nodeToTest.nodeLink != None):                           # Do not use recursion to traverse a linked list!\n",
    "        nodeToTest = nodeToTest.nodeLink\n",
    "    nodeToTest.nodeLink = targetNode"
   ]
  },
  {
   "cell_type": "code",
   "execution_count": 5,
   "metadata": {},
   "outputs": [],
   "source": [
    "# 简单数据集及数据包装器\n",
    "def loadSimpDat():\n",
    "    simpDat = [['r', 'z', 'h', 'j', 'p'],\n",
    "               ['z', 'y', 'x', 'w', 'v', 'u', 't', 's'],\n",
    "               ['z'],\n",
    "               ['r', 'x', 'n', 'o', 's'],\n",
    "               ['y', 'r', 'x', 'z', 'q', 't', 'p'],\n",
    "               ['y', 'z', 'x', 'e', 'q', 's', 't', 'm']]\n",
    "    return simpDat\n",
    "\n",
    "def createInitSet(dataSet):\n",
    "    retDict = {}\n",
    "    for trans in dataSet:\n",
    "        retDict[frozenset(trans)] = 1\n",
    "    return retDict"
   ]
  },
  {
   "cell_type": "code",
   "execution_count": 6,
   "metadata": {},
   "outputs": [
    {
     "name": "stdout",
     "output_type": "stream",
     "text": [
      "[['r', 'z', 'h', 'j', 'p'], ['z', 'y', 'x', 'w', 'v', 'u', 't', 's'], ['z'], ['r', 'x', 'n', 'o', 's'], ['y', 'r', 'x', 'z', 'q', 't', 'p'], ['y', 'z', 'x', 'e', 'q', 's', 't', 'm']]\n"
     ]
    }
   ],
   "source": [
    "simpDat = loadSimpDat()\n",
    "print(simpDat)"
   ]
  },
  {
   "cell_type": "code",
   "execution_count": 7,
   "metadata": {},
   "outputs": [
    {
     "name": "stdout",
     "output_type": "stream",
     "text": [
      "{frozenset({'h', 'p', 'j', 'z', 'r'}): 1, frozenset({'v', 'x', 'u', 'w', 'z', 't', 's', 'y'}): 1, frozenset({'z'}): 1, frozenset({'n', 'o', 'x', 's', 'r'}): 1, frozenset({'q', 'x', 'p', 'z', 't', 'y', 'r'}): 1, frozenset({'e', 'q', 'x', 'z', 't', 's', 'y', 'm'}): 1}\n"
     ]
    }
   ],
   "source": [
    "initSet = createInitSet(simpDat)\n",
    "print(initSet)"
   ]
  },
  {
   "cell_type": "code",
   "execution_count": 8,
   "metadata": {},
   "outputs": [
    {
     "name": "stdout",
     "output_type": "stream",
     "text": [
      "   Null Set   1\n",
      "     z   5\n",
      "       r   1\n",
      "       x   3\n",
      "         t   3\n",
      "           s   2\n",
      "             y   2\n",
      "           y   1\n",
      "             r   1\n",
      "     x   1\n",
      "       s   1\n",
      "         r   1\n"
     ]
    }
   ],
   "source": [
    "myFPtree, myHeaderTab = createTree(initSet, 3)\n",
    "myFPtree.disp()"
   ]
  },
  {
   "cell_type": "markdown",
   "metadata": {},
   "source": [
    "### 3、从一棵FP树中挖掘频繁项集\n",
    "**1、从FP树中获得条件模式基**  \n",
    "\n",
    "**2、利用条件模式基，构建一个条件FP树**  \n",
    "\n",
    "**3、迭代重复步骤1和2，直到树包含一个元素项为止**"
   ]
  },
  {
   "cell_type": "code",
   "execution_count": 9,
   "metadata": {},
   "outputs": [],
   "source": [
    "# 发现以给定元素项结尾的所有路径的函数\n",
    "def ascendTree(leafNode, prefixPath):         # ascends from leaf node to root\n",
    "    if leafNode.parent != None:\n",
    "        prefixPath.append(leafNode.name)\n",
    "        ascendTree(leafNode.parent, prefixPath)\n",
    "\n",
    "def findPrefixPath(basePat, treeNode):        # treeNode comes from header table\n",
    "    condPats = {}\n",
    "    while treeNode != None:\n",
    "        prefixPath = []\n",
    "        ascendTree(treeNode, prefixPath)\n",
    "        if len(prefixPath) > 1: \n",
    "            condPats[frozenset(prefixPath[1:])] = treeNode.count\n",
    "        treeNode = treeNode.nodeLink\n",
    "    return condPats"
   ]
  },
  {
   "cell_type": "code",
   "execution_count": 10,
   "metadata": {},
   "outputs": [
    {
     "name": "stdout",
     "output_type": "stream",
     "text": [
      "{frozenset({'z'}): 3}\n",
      "{}\n",
      "{frozenset({'z'}): 1, frozenset({'s', 'x'}): 1, frozenset({'t', 'y', 'x', 'z'}): 1}\n"
     ]
    }
   ],
   "source": [
    "print(findPrefixPath('x', myHeaderTab['x'][1]))\n",
    "print(findPrefixPath('z', myHeaderTab['z'][1]))\n",
    "print(findPrefixPath('r', myHeaderTab['r'][1]))"
   ]
  },
  {
   "cell_type": "code",
   "execution_count": 11,
   "metadata": {},
   "outputs": [],
   "source": [
    "# 递归查找频繁项集的mineTree函数\n",
    "def mineTree(inTree, headerTable, minSup, preFix, freqItemList):\n",
    "    bigL = [v[0] for v in sorted(headerTable.items(), key = lambda p: p[1][0])]  # (sort header table)\n",
    "    for basePat in bigL:                                                      #  s tart from bottom of header table\n",
    "        newFreqSet = preFix.copy()\n",
    "        newFreqSet.add(basePat)\n",
    "        # print 'finalFrequent Item: ',newFreqSet    #append to set\n",
    "        freqItemList.append(newFreqSet)\n",
    "        condPattBases = findPrefixPath(basePat, headerTable[basePat][1])\n",
    "        # print 'condPattBases :',basePat, condPattBases\n",
    "        # 2. construct cond FP-tree from cond. pattern base\n",
    "        myCondTree, myHead = createTree(condPattBases, minSup)\n",
    "        # print 'head from conditional tree: ', myHead\n",
    "        if myHead != None:                                                    # 3. mine cond. FP-tree\n",
    "            print('conditional tree for: ',newFreqSet)\n",
    "            myCondTree.disp(1)            \n",
    "            mineTree(myCondTree, myHead, minSup, newFreqSet, freqItemList)"
   ]
  },
  {
   "cell_type": "code",
   "execution_count": 12,
   "metadata": {},
   "outputs": [
    {
     "name": "stdout",
     "output_type": "stream",
     "text": [
      "conditional tree for:  {'t'}\n",
      "   Null Set   1\n",
      "     x   3\n",
      "       z   3\n",
      "conditional tree for:  {'t', 'z'}\n",
      "   Null Set   1\n",
      "     x   3\n",
      "conditional tree for:  {'s'}\n",
      "   Null Set   1\n",
      "     x   3\n",
      "conditional tree for:  {'y'}\n",
      "   Null Set   1\n",
      "     t   3\n",
      "       x   3\n",
      "         z   3\n",
      "conditional tree for:  {'y', 'x'}\n",
      "   Null Set   1\n",
      "     t   3\n",
      "conditional tree for:  {'y', 'z'}\n",
      "   Null Set   1\n",
      "     t   3\n",
      "       x   3\n",
      "conditional tree for:  {'y', 'z', 'x'}\n",
      "   Null Set   1\n",
      "     t   3\n",
      "conditional tree for:  {'x'}\n",
      "   Null Set   1\n",
      "     z   3\n",
      "None\n",
      "[{'r'}, {'t'}, {'t', 'x'}, {'t', 'z'}, {'t', 'z', 'x'}, {'s'}, {'s', 'x'}, {'y'}, {'t', 'y'}, {'y', 'x'}, {'t', 'y', 'x'}, {'y', 'z'}, {'t', 'y', 'z'}, {'y', 'z', 'x'}, {'t', 'y', 'z', 'x'}, {'x'}, {'x', 'z'}, {'z'}]\n"
     ]
    }
   ],
   "source": [
    "freqItems = []\n",
    "print(mineTree(myFPtree, myHeaderTab, 3, set([]), freqItems))\n",
    "#print('conditional tree for:', newFreqSet)\n",
    "#myCondTree.disp(1)\n",
    "print(freqItems)"
   ]
  },
  {
   "cell_type": "markdown",
   "metadata": {},
   "source": [
    "### 4、在Twitter源中发现一些共现词"
   ]
  },
  {
   "cell_type": "code",
   "execution_count": 13,
   "metadata": {},
   "outputs": [],
   "source": [
    "import twitter\n",
    "from time import sleep\n",
    "import re"
   ]
  },
  {
   "cell_type": "code",
   "execution_count": 14,
   "metadata": {},
   "outputs": [],
   "source": [
    "def getLotsOfTweets(searchStr):\n",
    "    CONSUMER_KEY = ''\n",
    "    CONSUMER_SECRET = ''\n",
    "    ACCESS_TOKEN_KEY = ''\n",
    "    ACCESS_TOKEN_SECRET = ''\n",
    "    api = twitter.Api(consumer_key=CONSUMER_KEY, consumer_secret=CONSUMER_SECRET,\n",
    "                      access_token_key=ACCESS_TOKEN_KEY, \n",
    "                      access_token_secret=ACCESS_TOKEN_SECRET)\n",
    "    # you can get 1500 results 15 pages * 100 per page\n",
    "    resultsPages = []\n",
    "    for i in range(1,15):\n",
    "        print(\"fetching page %d\" % i)\n",
    "        searchResults = api.GetSearch(searchStr, count = 100*i)\n",
    "        resultsPages.append(searchResults)\n",
    "        sleep(6)\n",
    "    return resultsPages"
   ]
  },
  {
   "cell_type": "markdown",
   "metadata": {},
   "source": [
    "### 5、示例：从新闻网站点击流中挖掘"
   ]
  },
  {
   "cell_type": "code",
   "execution_count": 15,
   "metadata": {},
   "outputs": [
    {
     "name": "stdout",
     "output_type": "stream",
     "text": [
      "conditional tree for:  {'1'}\n",
      "   Null Set   1\n",
      "     6   107404\n",
      "conditional tree for:  {'3'}\n",
      "   Null Set   1\n",
      "     6   186289\n",
      "       11   117401\n",
      "     11   9718\n",
      "conditional tree for:  {'11', '3'}\n",
      "   Null Set   1\n",
      "     6   117401\n",
      "conditional tree for:  {'11'}\n",
      "   Null Set   1\n",
      "     6   261773\n",
      "9\n",
      "[{'1'}, {'1', '6'}, {'3'}, {'11', '3'}, {'11', '6', '3'}, {'6', '3'}, {'11'}, {'11', '6'}, {'6'}]\n"
     ]
    }
   ],
   "source": [
    "parsedDat = [line.split() for line in open('D:/data/study/AI/ML/MLcode/Ch12/kosarak.dat').readlines()]\n",
    "initSet = createInitSet(parsedDat)\n",
    "myFPtree, myHeaderTab = createTree(initSet, 100000)\n",
    "myFreqList = []\n",
    "mineTree(myFPtree, myHeaderTab, 100000, set([]), myFreqList)\n",
    "print(len(myFreqList))\n",
    "print(myFreqList)"
   ]
  },
  {
   "cell_type": "code",
   "execution_count": null,
   "metadata": {},
   "outputs": [],
   "source": []
  }
 ],
 "metadata": {
  "kernelspec": {
   "display_name": "Python 3",
   "language": "python",
   "name": "python3"
  },
  "language_info": {
   "codemirror_mode": {
    "name": "ipython",
    "version": 3
   },
   "file_extension": ".py",
   "mimetype": "text/x-python",
   "name": "python",
   "nbconvert_exporter": "python",
   "pygments_lexer": "ipython3",
   "version": "3.6.5"
  }
 },
 "nbformat": 4,
 "nbformat_minor": 2
}
